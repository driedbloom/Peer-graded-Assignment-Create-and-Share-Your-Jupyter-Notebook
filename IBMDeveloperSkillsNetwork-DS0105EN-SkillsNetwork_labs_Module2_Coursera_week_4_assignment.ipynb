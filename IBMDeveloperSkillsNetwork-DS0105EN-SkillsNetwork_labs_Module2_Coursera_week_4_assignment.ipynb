{
  "metadata": {
    "language_info": {
      "codemirror_mode": {
        "name": "python",
        "version": 3
      },
      "file_extension": ".py",
      "mimetype": "text/x-python",
      "name": "python",
      "nbconvert_exporter": "python",
      "pygments_lexer": "ipython3",
      "version": "3.8"
    },
    "kernelspec": {
      "name": "python",
      "display_name": "Pyolite",
      "language": "python"
    }
  },
  "nbformat_minor": 4,
  "nbformat": 4,
  "cells": [
    {
      "cell_type": "markdown",
      "source": "# My Jupyter Notebook on IBM Watson Studio",
      "metadata": {}
    },
    {
      "cell_type": "markdown",
      "source": "# **Hasya Aghniya**\n# Undergraduate Student",
      "metadata": {}
    },
    {
      "cell_type": "markdown",
      "source": "# *I am interested in data science because I want to apply data science in healthcare, especially after pandemic there are a lot of changes in the healthcare system*",
      "metadata": {}
    },
    {
      "cell_type": "markdown",
      "source": "### I want to calculate how much money will I get on 7th year, if I invest $100 with return 10% per year ",
      "metadata": {
        "tags": []
      }
    },
    {
      "cell_type": "code",
      "source": "savings = 100\ngrowth_multiplier = 1.1\nresult = savings * growth_multiplier ** 7\nprint(result)",
      "metadata": {
        "trusted": true
      },
      "execution_count": 20,
      "outputs": [
        {
          "name": "stdout",
          "text": "194.87171000000012\n",
          "output_type": "stream"
        }
      ]
    },
    {
      "cell_type": "markdown",
      "source": "| year | result |\n| ---- | ------ |\n| 1 | 110 |\n| 2 | 121 |\n| 3 | 133 |\n| 4 | 146 |\n| 5 | 161 |\n| 6 | 177 |\n| 7 | 194 |\n| 8 | 214 |\n| 9 | 235 |\n\n- 1\n- 2\n- 3\n\n<a href=\"https://youtu.be/xC-c7E5PK0Y\">What REALLY is Data Science? Told by a Data Scientist</a>\n\n",
      "metadata": {}
    },
    {
      "cell_type": "markdown",
      "source": "",
      "metadata": {}
    }
  ]
}